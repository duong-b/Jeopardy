{
 "cells": [
  {
   "cell_type": "code",
   "execution_count": 1,
   "metadata": {},
   "outputs": [],
   "source": [
    "import pandas as pd "
   ]
  },
  {
   "cell_type": "code",
   "execution_count": 2,
   "metadata": {},
   "outputs": [
    {
     "name": "stdout",
     "output_type": "stream",
     "text": [
      "   Show Number    Air Date      Round                         Category  Value  \\\n",
      "0         4680  2004-12-31  Jeopardy!                          HISTORY   $200   \n",
      "1         4680  2004-12-31  Jeopardy!  ESPN's TOP 10 ALL-TIME ATHLETES   $200   \n",
      "2         4680  2004-12-31  Jeopardy!      EVERYBODY TALKS ABOUT IT...   $200   \n",
      "3         4680  2004-12-31  Jeopardy!                 THE COMPANY LINE   $200   \n",
      "4         4680  2004-12-31  Jeopardy!              EPITAPHS & TRIBUTES   $200   \n",
      "\n",
      "                                            Question      Answer  \n",
      "0  For the last 8 years of his life, Galileo was ...  Copernicus  \n",
      "1  No. 2: 1912 Olympian; football star at Carlisl...  Jim Thorpe  \n",
      "2  The city of Yuma in this state has a record av...     Arizona  \n",
      "3  In 1963, live on \"The Art Linkletter Show\", th...  McDonald's  \n",
      "4  Signer of the Dec. of Indep., framer of the Co...  John Adams  \n",
      "Index(['Show Number', ' Air Date', ' Round', ' Category', ' Value',\n",
      "       ' Question', ' Answer'],\n",
      "      dtype='object')\n",
      "Show Number     int64\n",
      " Air Date      object\n",
      " Round         object\n",
      " Category      object\n",
      " Value         object\n",
      " Question      object\n",
      " Answer        object\n",
      "dtype: object\n"
     ]
    }
   ],
   "source": [
    "jeopardy = pd.read_csv('jeopardy.csv')\n",
    "print(jeopardy.head())\n",
    "print(jeopardy.columns)\n",
    "print(jeopardy.dtypes)"
   ]
  },
  {
   "cell_type": "code",
   "execution_count": 3,
   "metadata": {},
   "outputs": [
    {
     "name": "stdout",
     "output_type": "stream",
     "text": [
      "   show_number    air_date      round                         category value  \\\n",
      "0         4680  2004-12-31  Jeopardy!                          HISTORY  $200   \n",
      "1         4680  2004-12-31  Jeopardy!  ESPN's TOP 10 ALL-TIME ATHLETES  $200   \n",
      "2         4680  2004-12-31  Jeopardy!      EVERYBODY TALKS ABOUT IT...  $200   \n",
      "3         4680  2004-12-31  Jeopardy!                 THE COMPANY LINE  $200   \n",
      "4         4680  2004-12-31  Jeopardy!              EPITAPHS & TRIBUTES  $200   \n",
      "\n",
      "                                            question      answer  \n",
      "0  For the last 8 years of his life, Galileo was ...  Copernicus  \n",
      "1  No. 2: 1912 Olympian; football star at Carlisl...  Jim Thorpe  \n",
      "2  The city of Yuma in this state has a record av...     Arizona  \n",
      "3  In 1963, live on \"The Art Linkletter Show\", th...  McDonald's  \n",
      "4  Signer of the Dec. of Indep., framer of the Co...  John Adams  \n"
     ]
    }
   ],
   "source": [
    "# Rename the columns \n",
    "\n",
    "jeopardy.columns = ['show_number', 'air_date', 'round', 'category', 'value', 'question', 'answer']\n",
    "print(jeopardy.head())"
   ]
  },
  {
   "cell_type": "code",
   "execution_count": 4,
   "metadata": {},
   "outputs": [],
   "source": [
    "# Filter out the questions that contains all of the words in a list of words \n",
    "\n",
    "def filter_data(data, words): \n",
    "    filter = lambda x: all(word.lower() in x.lower() for word in words)\n",
    "    return data.loc[data.question.apply(filter)]"
   ]
  },
  {
   "cell_type": "code",
   "execution_count": 5,
   "metadata": {},
   "outputs": [
    {
     "data": {
      "text/html": [
       "<div>\n",
       "<style scoped>\n",
       "    .dataframe tbody tr th:only-of-type {\n",
       "        vertical-align: middle;\n",
       "    }\n",
       "\n",
       "    .dataframe tbody tr th {\n",
       "        vertical-align: top;\n",
       "    }\n",
       "\n",
       "    .dataframe thead th {\n",
       "        text-align: right;\n",
       "    }\n",
       "</style>\n",
       "<table border=\"1\" class=\"dataframe\">\n",
       "  <thead>\n",
       "    <tr style=\"text-align: right;\">\n",
       "      <th></th>\n",
       "      <th>show_number</th>\n",
       "      <th>air_date</th>\n",
       "      <th>round</th>\n",
       "      <th>category</th>\n",
       "      <th>value</th>\n",
       "      <th>question</th>\n",
       "      <th>answer</th>\n",
       "    </tr>\n",
       "  </thead>\n",
       "  <tbody>\n",
       "    <tr>\n",
       "      <th>4953</th>\n",
       "      <td>3003</td>\n",
       "      <td>1997-09-24</td>\n",
       "      <td>Double Jeopardy!</td>\n",
       "      <td>\"PH\"UN WORDS</td>\n",
       "      <td>$200</td>\n",
       "      <td>Both England's King George V &amp; FDR put their s...</td>\n",
       "      <td>Philately (stamp collecting)</td>\n",
       "    </tr>\n",
       "    <tr>\n",
       "      <th>6337</th>\n",
       "      <td>3517</td>\n",
       "      <td>1999-12-14</td>\n",
       "      <td>Double Jeopardy!</td>\n",
       "      <td>Y1K</td>\n",
       "      <td>$800</td>\n",
       "      <td>In retaliation for Viking raids, this \"Unready...</td>\n",
       "      <td>Ethelred</td>\n",
       "    </tr>\n",
       "    <tr>\n",
       "      <th>9191</th>\n",
       "      <td>3907</td>\n",
       "      <td>2001-09-04</td>\n",
       "      <td>Double Jeopardy!</td>\n",
       "      <td>WON THE BATTLE</td>\n",
       "      <td>$800</td>\n",
       "      <td>This king of England beat the odds to trounce ...</td>\n",
       "      <td>Henry V</td>\n",
       "    </tr>\n",
       "    <tr>\n",
       "      <th>11710</th>\n",
       "      <td>2903</td>\n",
       "      <td>1997-03-26</td>\n",
       "      <td>Double Jeopardy!</td>\n",
       "      <td>BRITISH MONARCHS</td>\n",
       "      <td>$600</td>\n",
       "      <td>This Scotsman, the first Stuart king of Englan...</td>\n",
       "      <td>James I</td>\n",
       "    </tr>\n",
       "    <tr>\n",
       "      <th>13454</th>\n",
       "      <td>4726</td>\n",
       "      <td>2005-03-07</td>\n",
       "      <td>Jeopardy!</td>\n",
       "      <td>A NUMBER FROM 1 TO 10</td>\n",
       "      <td>$1000</td>\n",
       "      <td>It's the number that followed the last king of...</td>\n",
       "      <td>4</td>\n",
       "    </tr>\n",
       "    <tr>\n",
       "      <th>...</th>\n",
       "      <td>...</td>\n",
       "      <td>...</td>\n",
       "      <td>...</td>\n",
       "      <td>...</td>\n",
       "      <td>...</td>\n",
       "      <td>...</td>\n",
       "      <td>...</td>\n",
       "    </tr>\n",
       "    <tr>\n",
       "      <th>208295</th>\n",
       "      <td>4621</td>\n",
       "      <td>2004-10-11</td>\n",
       "      <td>Jeopardy!</td>\n",
       "      <td>THE VIKINGS</td>\n",
       "      <td>$600</td>\n",
       "      <td>In 1066 this great-great grandson of Rollo mad...</td>\n",
       "      <td>William the Conqueror</td>\n",
       "    </tr>\n",
       "    <tr>\n",
       "      <th>208742</th>\n",
       "      <td>4863</td>\n",
       "      <td>2005-11-02</td>\n",
       "      <td>Double Jeopardy!</td>\n",
       "      <td>BEFORE &amp; AFTER</td>\n",
       "      <td>$3,000</td>\n",
       "      <td>Dutch-born king who ruled England jointly with...</td>\n",
       "      <td>William of Orange roughy</td>\n",
       "    </tr>\n",
       "    <tr>\n",
       "      <th>213870</th>\n",
       "      <td>5856</td>\n",
       "      <td>2010-02-15</td>\n",
       "      <td>Double Jeopardy!</td>\n",
       "      <td>URANUS</td>\n",
       "      <td>$1600</td>\n",
       "      <td>In 1781 William Herschel discovered Uranus &amp; i...</td>\n",
       "      <td>George III</td>\n",
       "    </tr>\n",
       "    <tr>\n",
       "      <th>216021</th>\n",
       "      <td>1881</td>\n",
       "      <td>1992-11-09</td>\n",
       "      <td>Double Jeopardy!</td>\n",
       "      <td>HISTORIC NAMES</td>\n",
       "      <td>$1000</td>\n",
       "      <td>His nickname was \"Bertie\", but he used this na...</td>\n",
       "      <td>Edward VII</td>\n",
       "    </tr>\n",
       "    <tr>\n",
       "      <th>216789</th>\n",
       "      <td>5070</td>\n",
       "      <td>2006-09-29</td>\n",
       "      <td>Double Jeopardy!</td>\n",
       "      <td>ANCIENT HISTORY</td>\n",
       "      <td>$1200</td>\n",
       "      <td>This kingdom of England grew from 2 settlement...</td>\n",
       "      <td>Wessex</td>\n",
       "    </tr>\n",
       "  </tbody>\n",
       "</table>\n",
       "<p>152 rows × 7 columns</p>\n",
       "</div>"
      ],
      "text/plain": [
       "        show_number    air_date             round               category  \\\n",
       "4953           3003  1997-09-24  Double Jeopardy!           \"PH\"UN WORDS   \n",
       "6337           3517  1999-12-14  Double Jeopardy!                    Y1K   \n",
       "9191           3907  2001-09-04  Double Jeopardy!         WON THE BATTLE   \n",
       "11710          2903  1997-03-26  Double Jeopardy!       BRITISH MONARCHS   \n",
       "13454          4726  2005-03-07         Jeopardy!  A NUMBER FROM 1 TO 10   \n",
       "...             ...         ...               ...                    ...   \n",
       "208295         4621  2004-10-11         Jeopardy!            THE VIKINGS   \n",
       "208742         4863  2005-11-02  Double Jeopardy!         BEFORE & AFTER   \n",
       "213870         5856  2010-02-15  Double Jeopardy!                 URANUS   \n",
       "216021         1881  1992-11-09  Double Jeopardy!         HISTORIC NAMES   \n",
       "216789         5070  2006-09-29  Double Jeopardy!        ANCIENT HISTORY   \n",
       "\n",
       "         value                                           question  \\\n",
       "4953      $200  Both England's King George V & FDR put their s...   \n",
       "6337      $800  In retaliation for Viking raids, this \"Unready...   \n",
       "9191      $800  This king of England beat the odds to trounce ...   \n",
       "11710     $600  This Scotsman, the first Stuart king of Englan...   \n",
       "13454    $1000  It's the number that followed the last king of...   \n",
       "...        ...                                                ...   \n",
       "208295    $600  In 1066 this great-great grandson of Rollo mad...   \n",
       "208742  $3,000  Dutch-born king who ruled England jointly with...   \n",
       "213870   $1600  In 1781 William Herschel discovered Uranus & i...   \n",
       "216021   $1000  His nickname was \"Bertie\", but he used this na...   \n",
       "216789   $1200  This kingdom of England grew from 2 settlement...   \n",
       "\n",
       "                              answer  \n",
       "4953    Philately (stamp collecting)  \n",
       "6337                        Ethelred  \n",
       "9191                         Henry V  \n",
       "11710                        James I  \n",
       "13454                              4  \n",
       "...                              ...  \n",
       "208295         William the Conqueror  \n",
       "208742      William of Orange roughy  \n",
       "213870                    George III  \n",
       "216021                    Edward VII  \n",
       "216789                        Wessex  \n",
       "\n",
       "[152 rows x 7 columns]"
      ]
     },
     "execution_count": 5,
     "metadata": {},
     "output_type": "execute_result"
    }
   ],
   "source": [
    "list = ['king', 'england']\n",
    "filter_data(jeopardy, list)"
   ]
  },
  {
   "cell_type": "code",
   "execution_count": 6,
   "metadata": {},
   "outputs": [
    {
     "name": "stdout",
     "output_type": "stream",
     "text": [
      "752.5959230365314\n"
     ]
    }
   ],
   "source": [
    "# Find mean of values \n",
    "\n",
    "new_value = lambda x: x.replace('$','').replace(',', '')\n",
    "jeopardy.value = jeopardy.value.apply(new_value)\n",
    "# find_na = jeopardy.value.isna().sum()\n",
    "# print(find_na)\n",
    "jeopardy['new_value'] = pd.to_numeric(jeopardy.value, errors = 'coerce')\n",
    "mean_value = jeopardy.new_value.mean()\n",
    "print(mean_value)\n",
    "#jeopardy = jeopardy[jeopardy.new.apply(lambda x: float(x))]"
   ]
  },
  {
   "cell_type": "code",
   "execution_count": 7,
   "metadata": {},
   "outputs": [],
   "source": [
    "# Find the difficulty of topics \n",
    "\n",
    "# new_list = ['king']\n",
    "# king_filter = filter_data(jeopardy, new_list)\n",
    "\n",
    "# print(king_filter.new_value.mean())\n",
    "\n",
    "def difficulty(list): \n",
    "    filter_jeopardy = filter_data(jeopardy, list)\n",
    "    return(filter_jeopardy.new_value.mean())\n"
   ]
  },
  {
   "cell_type": "code",
   "execution_count": 9,
   "metadata": {},
   "outputs": [
    {
     "data": {
      "text/plain": [
       "866.4705882352941"
      ]
     },
     "execution_count": 9,
     "metadata": {},
     "output_type": "execute_result"
    }
   ],
   "source": [
    "list = ['math']\n",
    "difficulty(list)"
   ]
  },
  {
   "cell_type": "code",
   "execution_count": 22,
   "metadata": {},
   "outputs": [
    {
     "name": "stdout",
     "output_type": "stream",
     "text": [
      "                        index  answer\n",
      "0                  Henry VIII      55\n",
      "1                     Solomon      35\n",
      "2                 Richard III      33\n",
      "3                   Louis XIV      31\n",
      "4                       David      30\n",
      "...                       ...     ...\n",
      "5263                 Heracles       1\n",
      "5264   video display terminal       1\n",
      "5265               unleavened       1\n",
      "5266  Michael Jackson Pollock       1\n",
      "5267                   slowly       1\n",
      "\n",
      "[5268 rows x 2 columns]\n",
      "                         index  answer\n",
      "1260         Uther (Pendragon)       1\n",
      "1672           Uther Pendragon       1\n",
      "2273  How to Train Your Dragon       1\n",
      "3191                  a dragon       1\n"
     ]
    }
   ],
   "source": [
    "# Find unique answers to the questions including keyword 'king' and sort by their frequencies\n",
    "\n",
    "# new_list = ['king']\n",
    "# king_filter = filter_data(jeopardy, new_list)\n",
    "# unique_answers = king_filter.answer.value_counts().reset_index()\n",
    "# print(unique_answers)\n",
    "\n",
    "# # Look for the frequency of the answer 'dragon'\n",
    "\n",
    "# filter_answer = unique_answers.loc[unique_answers['index'].str.contains('dragon', case = False)]\n",
    "# print(filter_answer)\n"
   ]
  },
  {
   "cell_type": "code",
   "execution_count": 29,
   "metadata": {},
   "outputs": [],
   "source": [
    "# Filter the Unique Answers:\n",
    "\n",
    "def filter_answer(topic, key): \n",
    "    topic_data = filter_data(jeopardy, topic) # filter the jeopardy data using the provided 'topic'\n",
    "    unique_answers = topic_data.answer.value_counts().reset_index()\n",
    "    filter_answer = unique_answers.loc[unique_answers['index'].str.contains(key, case = False)]\n",
    "    return topic_data, filter_answer"
   ]
  },
  {
   "cell_type": "code",
   "execution_count": 31,
   "metadata": {},
   "outputs": [
    {
     "data": {
      "text/plain": [
       "(        show_number    air_date             round                    category  \\\n",
       " 34             4680  2004-12-31  Double Jeopardy!                 \"X\"s & \"O\"s   \n",
       " 40             4680  2004-12-31  Double Jeopardy!  DR. SEUSS AT THE MULTIPLEX   \n",
       " 50             4680  2004-12-31  Double Jeopardy!  DR. SEUSS AT THE MULTIPLEX   \n",
       " 56             5957  2010-07-06         Jeopardy!               GEOGRAPHY \"E\"   \n",
       " 72             5957  2010-07-06         Jeopardy!                LET'S BOUNCE   \n",
       " ...             ...         ...               ...                         ...   \n",
       " 216777         5070  2006-09-29  Double Jeopardy!             ANCIENT HISTORY   \n",
       " 216787         5070  2006-09-29  Double Jeopardy!    TALES OF E.T.A. HOFFMANN   \n",
       " 216789         5070  2006-09-29  Double Jeopardy!             ANCIENT HISTORY   \n",
       " 216856         5195  2007-03-23  Double Jeopardy!            HAIL TO THE CHEF   \n",
       " 216916         4999  2006-05-11  Double Jeopardy!                  QUOTATIONS   \n",
       " \n",
       "        value                                           question  \\\n",
       " 34       400  Around 100 A.D. Tacitus wrote a book on how th...   \n",
       " 40      1200  <a href=\"http://www.j-archive.com/media/2004-1...   \n",
       " 50      2000  <a href=\"http://www.j-archive.com/media/2004-1...   \n",
       " 56       200     It's the largest kingdom in the United Kingdom   \n",
       " 72       600  In this kid's game, you bounce a small rubber ...   \n",
       " ...      ...                                                ...   \n",
       " 216777   400  The first one of these tombs was built about 2...   \n",
       " 216787  2000  A Hoffmann tale title lost the words \"And The ...   \n",
       " 216789  1200  This kingdom of England grew from 2 settlement...   \n",
       " 216856  1600  You can cook like <a href=\"http://www.j-archiv...   \n",
       " 216916  2200  Oscar Wilde called this 4-letter word \"the cur...   \n",
       " \n",
       "                                    answer  new_value  \n",
       " 34                                oratory      400.0  \n",
       " 40                                 Yertle     1200.0  \n",
       " 50                    Bartholomew Cubbins     2000.0  \n",
       " 56                                England      200.0  \n",
       " 72                                  jacks      600.0  \n",
       " ...                                   ...        ...  \n",
       " 216777  a pyramid (the pyramids accepted)      400.0  \n",
       " 216787                     The Nutcracker     2000.0  \n",
       " 216789                             Wessex     1200.0  \n",
       " 216856                       (Martin) Yan     1600.0  \n",
       " 216916                               work     2200.0  \n",
       " \n",
       " [7409 rows x 8 columns],\n",
       "                          index  answer\n",
       " 1260         Uther (Pendragon)       1\n",
       " 1672           Uther Pendragon       1\n",
       " 2273  How to Train Your Dragon       1\n",
       " 3191                  a dragon       1)"
      ]
     },
     "execution_count": 31,
     "metadata": {},
     "output_type": "execute_result"
    }
   ],
   "source": [
    "filter_answer(['king'], 'dragon') # Note, the first entry needs to be in form of a list.... "
   ]
  }
 ],
 "metadata": {
  "kernelspec": {
   "display_name": "Python 3",
   "language": "python",
   "name": "python3"
  },
  "language_info": {
   "codemirror_mode": {
    "name": "ipython",
    "version": 3
   },
   "file_extension": ".py",
   "mimetype": "text/x-python",
   "name": "python",
   "nbconvert_exporter": "python",
   "pygments_lexer": "ipython3",
   "version": "3.8.3"
  }
 },
 "nbformat": 4,
 "nbformat_minor": 4
}
